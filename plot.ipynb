{
 "cells": [
  {
   "cell_type": "code",
   "execution_count": 1,
   "id": "51c4ec78",
   "metadata": {},
   "outputs": [],
   "source": [
    "import numpy as np\n",
    "from numpy import linalg as LA\n",
    "import scipy.linalg as la\n",
    "from scipy.sparse.linalg import eigsh, eigs, expm_multiply\n",
    "from scipy.linalg import expm\n",
    "import matplotlib.pyplot as plt\n",
    "import multiprocessing as mp\n",
    "import random, math\n",
    "from scipy import stats\n",
    "import operator\n",
    "from scipy.optimize import curve_fit \n",
    "from matplotlib.colors import LogNorm\n",
    "from scipy.interpolate import interp2d\n",
    "from scipy.interpolate import interp1d\n",
    "from scipy.interpolate import griddata  # Import the griddata function\n",
    "from scipy import interpolate\n",
    "from matplotlib import cm\n",
    "from matplotlib.colors import ListedColormap, LinearSegmentedColormap\n",
    "from matplotlib import colors\n",
    "from matplotlib import rc\n",
    "rc('text',usetex=True)\n",
    "import matplotlib.ticker as tick\n",
    "from matplotlib import cm\n",
    "from matplotlib.colors import Normalize"
   ]
  },
  {
   "cell_type": "code",
   "execution_count": 46,
   "id": "4e802e4e",
   "metadata": {},
   "outputs": [],
   "source": [
    "Eloc = np.load(\"Eloc_temperature=0.0.npy\", allow_pickle=True)\n",
    "mag = np.load(\"mag_temperature=0.0.npy\", allow_pickle=True)\n",
    "varmag = np.load(\"varmag_temperature=0.0.npy\", allow_pickle=True)\n",
    "logprobs = np.load(\"log_probs_temperature=0.0.npy\", allow_pickle=True)\n",
    "Floc = np.load(\"Floc_temperature=0.0.npy\", allow_pickle=True)\n",
    "varFloc = np.load(\"varFloc_temperature=0.0.npy\", allow_pickle=True)"
   ]
  },
  {
   "cell_type": "code",
   "execution_count": null,
   "id": "c0d61417",
   "metadata": {},
   "outputs": [],
   "source": []
  },
  {
   "cell_type": "code",
   "execution_count": 47,
   "id": "57255911",
   "metadata": {},
   "outputs": [
    {
     "data": {
      "image/png": "[encoded data removed]",
      "text/plain": [
       "<Figure size 640x480 with 1 Axes>"
      ]
     },
     "metadata": {},
     "output_type": "display_data"
    }
   ],
   "source": [
    "plt.plot(Eloc)\n",
    "\n",
    "plt.show()"
   ]
  },
  {
   "cell_type": "code",
   "execution_count": 52,
   "id": "451b813d",
   "metadata": {},
   "outputs": [
    {
     "data": {
      "image/png": "[encoded data removed]",
      "text/plain": [
       "<Figure size 640x480 with 1 Axes>"
      ]
     },
     "metadata": {},
     "output_type": "display_data"
    }
   ],
   "source": [
    "plt.plot(Floc)\n",
    "plt.show()"
   ]
  },
  {
   "cell_type": "code",
   "execution_count": null,
   "id": "6722dbdf",
   "metadata": {},
   "outputs": [],
   "source": []
  }
 ],
 "metadata": {
  "kernelspec": {
   "display_name": "Python 3",
   "language": "python",
   "name": "python3"
  },
  "language_info": {
   "codemirror_mode": {
    "name": "ipython",
    "version": 3
   },
   "file_extension": ".py",
   "mimetype": "text/x-python",
   "name": "python",
   "nbconvert_exporter": "python",
   "pygments_lexer": "ipython3",
   "version": "3.8.18"
  }
 },
 "nbformat": 4,
 "nbformat_minor": 5
}
